{
 "cells": [
  {
   "cell_type": "code",
   "id": "initial_id",
   "metadata": {
    "collapsed": true,
    "ExecuteTime": {
     "end_time": "2025-04-13T08:08:16.096989Z",
     "start_time": "2025-04-13T08:08:16.090118Z"
    }
   },
   "source": [
    "import numpy as np\n",
    "import matplotlib.pyplot as plt\n",
    "from ipywidgets import interact, IntSlider, FloatSlider, Dropdown, VBox, HBox, Button, interactive, Output\n",
    "from IPython.display import display"
   ],
   "outputs": [],
   "execution_count": 42
  },
  {
   "metadata": {
    "ExecuteTime": {
     "end_time": "2025-04-13T08:08:16.434161Z",
     "start_time": "2025-04-13T08:08:16.120952Z"
    }
   },
   "cell_type": "code",
   "source": [
    "img_file_path = '/home/sysadmin/MS-2D-IMG/datasets/IBD_2D/top_512_patch_224x224_overlap_0x0_bin_size_0.01/ST000923-C8-pos/CD/top_512_patch_224x224_overlap_0x0_mz_200.0-1100.0_bin_size_0.01_0024_XAV_iHMP2_LIP_SM-6CAJC_CD.npz'\n",
    "\n",
    "img = np.load(img_file_path)['patches']\n",
    "print(f\"数据形状: {img.shape}\")"
   ],
   "id": "5c363b9e53b2d3e2",
   "outputs": [
    {
     "name": "stdout",
     "output_type": "stream",
     "text": [
      "数据形状: (512, 224, 224)\n"
     ]
    }
   ],
   "execution_count": 43
  },
  {
   "metadata": {
    "ExecuteTime": {
     "end_time": "2025-04-13T08:08:16.449358Z",
     "start_time": "2025-04-13T08:08:16.440647Z"
    }
   },
   "cell_type": "code",
   "source": [
    "def create_interactive_viewer():\n",
    "    cmaps = ['viridis', 'plasma', 'inferno', 'magma', 'cividis', \n",
    "             'gray', 'hot', 'cool', 'spring', 'summer', 'autumn', 'winter',\n",
    "             'bone', 'copper', 'RdYlBu', 'Spectral']\n",
    "\n",
    "    # 控件定义\n",
    "    channel_slider = IntSlider(min=0, max=img.shape[0]-1, value=0, description='Channel:')\n",
    "    vmin_slider = FloatSlider(min=float(img.min()), max=float(img.max()), \n",
    "                             value=np.percentile(img, 1), description='Min:')\n",
    "    vmax_slider = FloatSlider(min=float(img.min()), max=float(img.max()),\n",
    "                             value=np.percentile(img, 99), description='Max:')\n",
    "    cmap_dropdown = Dropdown(options=cmaps, value='gray', description='Colormap:')\n",
    "    zoom_slider = FloatSlider(min=0.1, max=2.0, value=1.0, description='Zoom:')\n",
    "    output = Output()\n",
    "\n",
    "    # 自动范围调整函数\n",
    "    def auto_range(_=None):\n",
    "        current_channel = channel_slider.value\n",
    "        vmin_slider.value = np.percentile(img[current_channel], 1)\n",
    "        vmax_slider.value = np.percentile(img[current_channel], 99)\n",
    "\n",
    "    # 事件绑定\n",
    "    channel_slider.observe(auto_range, names='value')\n",
    "    auto_range_btn = Button(description=\"Auto Range\")\n",
    "    auto_range_btn.on_click(auto_range)\n",
    "\n",
    "    # 绘图函数\n",
    "    def update_plot(**kwargs):\n",
    "        with output:\n",
    "            output.clear_output(wait=True)  # 清除旧输出\n",
    "            plt.close('all')  # 关闭所有旧图形\n",
    "\n",
    "            fig = plt.figure(figsize=(8*kwargs['zoom'], 8*kwargs['zoom']))\n",
    "            plt.imshow(img[kwargs['channel']], \n",
    "                      cmap=kwargs['cmap'],\n",
    "                      vmin=kwargs['vmin'],\n",
    "                      vmax=kwargs['vmax'])\n",
    "            plt.colorbar()\n",
    "            plt.title(f'Channel {kwargs[\"channel\"]}\\nIntensity: {kwargs[\"vmin\"]:.2f}-{kwargs[\"vmax\"]:.2f}')\n",
    "            plt.axis('off')\n",
    "            plt.show()\n",
    "\n",
    "    # 创建交互对象\n",
    "    controls = VBox([\n",
    "        HBox([channel_slider, auto_range_btn]),\n",
    "        HBox([vmin_slider, vmax_slider]),\n",
    "        HBox([cmap_dropdown, zoom_slider])\n",
    "    ])\n",
    "\n",
    "    # 初始化\n",
    "    auto_range()\n",
    "    interactive_plot = interactive(update_plot, \n",
    "                                  {'manual': False},\n",
    "                                  channel=channel_slider,\n",
    "                                  vmin=vmin_slider,\n",
    "                                  vmax=vmax_slider,\n",
    "                                  cmap=cmap_dropdown,\n",
    "                                  zoom=zoom_slider)\n",
    "\n",
    "    # 显示界面\n",
    "    display(VBox([controls, output]))"
   ],
   "id": "9ea5224c26705cd0",
   "outputs": [],
   "execution_count": 45
  },
  {
   "metadata": {
    "ExecuteTime": {
     "end_time": "2025-04-13T08:08:16.983586Z",
     "start_time": "2025-04-13T08:08:16.455637Z"
    }
   },
   "cell_type": "code",
   "source": "create_interactive_viewer()",
   "id": "6b643f24b8fc5e31",
   "outputs": [
    {
     "data": {
      "text/plain": [
       "VBox(children=(VBox(children=(HBox(children=(IntSlider(value=0, description='Channel:', max=511), Button(descr…"
      ],
      "application/vnd.jupyter.widget-view+json": {
       "version_major": 2,
       "version_minor": 0,
       "model_id": "bce683f7698e4c6d99df9e6f5f9050ad"
      }
     },
     "metadata": {},
     "output_type": "display_data"
    }
   ],
   "execution_count": 47
  }
 ],
 "metadata": {
  "kernelspec": {
   "display_name": "Python 3",
   "language": "python",
   "name": "python3"
  },
  "language_info": {
   "codemirror_mode": {
    "name": "ipython",
    "version": 2
   },
   "file_extension": ".py",
   "mimetype": "text/x-python",
   "name": "python",
   "nbconvert_exporter": "python",
   "pygments_lexer": "ipython2",
   "version": "2.7.6"
  }
 },
 "nbformat": 4,
 "nbformat_minor": 5
}
