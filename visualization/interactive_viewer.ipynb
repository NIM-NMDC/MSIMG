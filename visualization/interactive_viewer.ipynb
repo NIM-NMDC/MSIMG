{
 "cells": [
  {
   "cell_type": "code",
   "id": "initial_id",
   "metadata": {
    "collapsed": true
   },
   "source": [
    "import numpy as np\n",
    "import matplotlib.pyplot as plt\n",
    "from ipywidgets import interact, IntSlider, FloatSlider, Dropdown, VBox, HBox, Button, interactive, Output\n",
    "from IPython.display import display\n",
    "from scipy import sparse\n",
    "from skimage import data\n",
    "from skimage.io import imread\n",
    "from skimage.filters import gaussian"
   ],
   "outputs": [],
   "execution_count": null
  },
  {
   "metadata": {},
   "cell_type": "code",
   "source": [
    "patched_file_path = '/home/sysadmin/MS-2D-IMG/datasets/IBD_2D/top_512_patch_224x224_overlap_0x0_bin_size_0.01/ST000923-C8-pos/CD/top_512_patch_224x224_overlap_0x0_mz_200.0-1100.0_bin_size_0.01_0024_XAV_iHMP2_LIP_SM-6CAJC_CD.npz'\n",
    "\n",
    "# image = np.load(patched_file_path)['patches']\n",
    "# print(f\"Data shape: {image.shape}\")"
   ],
   "id": "5c363b9e53b2d3e2",
   "outputs": [],
   "execution_count": null
  },
  {
   "metadata": {},
   "cell_type": "code",
   "source": [
    "def create_interactive_viewer():\n",
    "    cmaps = ['viridis', 'plasma', 'inferno', 'magma', 'cividis', \n",
    "             'gray', 'hot', 'cool', 'spring', 'summer', 'autumn', 'winter',\n",
    "             'bone', 'copper', 'RdYlBu', 'Spectral']\n",
    "\n",
    "    channel_slider = IntSlider(min=0, max=image.shape[0]-1, value=0, description='Channel:')\n",
    "    vmin_slider = FloatSlider(min=float(image.min()), max=float(image.max()), \n",
    "                             value=np.percentile(image, 1), description='Min:')\n",
    "    vmax_slider = FloatSlider(min=float(image.min()), max=float(image.max()),\n",
    "                             value=np.percentile(image, 99), description='Max:')\n",
    "    cmap_dropdown = Dropdown(options=cmaps, value='gray', description='Colormap:')\n",
    "    zoom_slider = FloatSlider(min=0.1, max=2.0, value=1.0, description='Zoom:')\n",
    "    output = Output()\n",
    "\n",
    "    # auto range function\n",
    "    def auto_range(_=None):\n",
    "        current_channel = channel_slider.value\n",
    "        vmin_slider.value = np.percentile(image[current_channel], 1)\n",
    "        vmax_slider.value = np.percentile(image[current_channel], 99)\n",
    "\n",
    "    # event handlers\n",
    "    channel_slider.observe(auto_range, names='value')\n",
    "    auto_range_btn = Button(description=\"Auto Range\")\n",
    "    auto_range_btn.on_click(auto_range)\n",
    "\n",
    "    def update_plot(**kwargs):\n",
    "        with output:\n",
    "            output.clear_output(wait=True)\n",
    "            plt.close('all')\n",
    "\n",
    "            fig = plt.figure(figsize=(8*kwargs['zoom'], 8*kwargs['zoom']))\n",
    "            plt.imshow(image[kwargs['channel']], \n",
    "                      cmap=kwargs['cmap'],\n",
    "                      vmin=kwargs['vmin'],\n",
    "                      vmax=kwargs['vmax'])\n",
    "            plt.colorbar()\n",
    "            plt.title(f'Channel {kwargs[\"channel\"]}\\nIntensity: {kwargs[\"vmin\"]:.2f}-{kwargs[\"vmax\"]:.2f}')\n",
    "            plt.axis('off')\n",
    "            plt.show()\n",
    "\n",
    "    # create interactive controls\n",
    "    controls = VBox([\n",
    "        HBox([channel_slider, auto_range_btn]),\n",
    "        HBox([vmin_slider, vmax_slider]),\n",
    "        HBox([cmap_dropdown, zoom_slider])\n",
    "    ])\n",
    "\n",
    "    auto_range()\n",
    "    interactive_plot = interactive(update_plot, \n",
    "                                  {'manual': False},\n",
    "                                  channel=channel_slider,\n",
    "                                  vmin=vmin_slider,\n",
    "                                  vmax=vmax_slider,\n",
    "                                  cmap=cmap_dropdown,\n",
    "                                  zoom=zoom_slider)\n",
    "\n",
    "    display(VBox([controls, output]))"
   ],
   "id": "9ea5224c26705cd0",
   "outputs": [],
   "execution_count": null
  },
  {
   "metadata": {},
   "cell_type": "code",
   "source": "# create_interactive_viewer()",
   "id": "6b643f24b8fc5e31",
   "outputs": [],
   "execution_count": null
  },
  {
   "metadata": {},
   "cell_type": "code",
   "source": [
    "def visualize_gaussian_smoothing(binned_file_path, smoothing_sigma):\n",
    "    sparse_matrix = sparse.load_npz(binned_file_path)\n",
    "    raw_image = sparse_matrix.toarray()\n",
    "    # raw_image = raw_image / raw_image.max()\n",
    "    \n",
    "    if smoothing_sigma and smoothing_sigma > 0:\n",
    "        smoothed_image = gaussian(raw_image, sigma=smoothing_sigma)\n",
    "        plot_smoothed = True\n",
    "    else:\n",
    "        smoothed_image = raw_image\n",
    "        plot_smoothed = False\n",
    "        \n",
    "    num_rows = 2 if plot_smoothed else 1\n",
    "    fig, axes = plt.subplots(num_rows, 1, figsize=(4, 6 * num_rows), sharex=True, sharey=True)\n",
    "    \n",
    "    if num_rows == 1:\n",
    "        ax_raw = axes\n",
    "    else:\n",
    "        ax_raw = axes[0]\n",
    "        ax_smooth = axes[1]\n",
    "        \n",
    "    vmin = np.min(raw_image)\n",
    "    vmax = np.max(raw_image)\n",
    "    \n",
    "    im_raw = ax_raw.imshow(raw_image, cmap='gray', aspect='auto', vmin=vmin, vmax=vmax)\n",
    "    ax_raw.set_title('Raw Mass Spectrum Image')\n",
    "    ax_raw.set_ylabel('m/z')\n",
    "    fig.colorbar(im_raw, ax=ax_raw, label='Intensity')\n",
    "    \n",
    "    if plot_smoothed:\n",
    "        im_smooth = ax_smooth.imshow(smoothed_image, cmap='gray', aspect='auto', vmin=vmin, vmax=vmax)\n",
    "        ax_smooth.set_title(f'Smoothed Mass Spectrum Image (sigma={smoothing_sigma})')\n",
    "        ax_smooth.set_ylabel('m/z')\n",
    "        fig.colorbar(im_smooth, ax=ax_smooth, label='Intensity')\n",
    "    else:\n",
    "        ax_raw.set_xlabel('scan')\n",
    "        \n",
    "    plt.tight_layout()\n",
    "    plt.show()"
   ],
   "id": "11a5d6ce80b89e98",
   "outputs": [],
   "execution_count": null
  },
  {
   "metadata": {},
   "cell_type": "code",
   "source": [
    "binned_file_path = r'/home/sysadmin/MS-2D-IMG/datasets/IBD_2D_RAW/ST000923-C8-pos/mz_200.0-1100.0_bin_size_0.01/CD/mz_200.0-1100.0_bin_size_0.01_0024_XAV_iHMP2_LIP_SM-6CAJC_CD.npz'\n",
    "smoothing_sigma = 0.5\n",
    "visualize_gaussian_smoothing(binned_file_path, smoothing_sigma)"
   ],
   "id": "36bdc780be4b1761",
   "outputs": [],
   "execution_count": null
  },
  {
   "metadata": {},
   "cell_type": "code",
   "source": "",
   "id": "f5be67b7ae3849f0",
   "outputs": [],
   "execution_count": null
  }
 ],
 "metadata": {
  "kernelspec": {
   "display_name": "Python 3",
   "language": "python",
   "name": "python3"
  },
  "language_info": {
   "codemirror_mode": {
    "name": "ipython",
    "version": 2
   },
   "file_extension": ".py",
   "mimetype": "text/x-python",
   "name": "python",
   "nbconvert_exporter": "python",
   "pygments_lexer": "ipython2",
   "version": "2.7.6"
  }
 },
 "nbformat": 4,
 "nbformat_minor": 5
}
